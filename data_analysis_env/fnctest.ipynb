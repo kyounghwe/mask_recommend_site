{
 "cells": [
  {
   "cell_type": "code",
   "execution_count": 36,
   "id": "6827453f",
   "metadata": {},
   "outputs": [],
   "source": [
    "from selenium import webdriver\n",
    "from selenium.webdriver import ActionChains\n",
    "from selenium.webdriver.common.keys import Keys\n"
   ]
  },
  {
   "cell_type": "code",
   "execution_count": 6,
   "id": "7c73f325",
   "metadata": {},
   "outputs": [],
   "source": [
    "# 광고가 아닌 경우 테스트 (형태가 틀어지게 되면 문제 생김 - 해당 리스트 항목이 아예 없는 경우, 순서가 다른 경우)\n",
    "# 상품 링크 열기 - 해당 div로 이동 - 버튼 엔터 입력 - 기능 출력"
   ]
  },
  {
   "cell_type": "code",
   "execution_count": 3,
   "id": "5fc7a2bf",
   "metadata": {},
   "outputs": [],
   "source": [
    "driver = webdriver.Chrome(r'/Users/krc/Downloads/chromedriver')\n",
    "url = 'https://search.shopping.naver.com/catalog/25494065522?query=%EB%A7%88%EC%8A%A4%ED%81%AC&NaPm=ct%3Dkw1db3sw%7Cci%3Dc997c13545e3dcb02babb4e7062f579bb99b422b%7Ctr%3Dslsl%7Csn%3D95694%7Chk%3D2d7cfc6353e30b6b34898d73be73554cdc4ad768'\n",
    "driver.get(url)\n",
    "\n",
    "end_xpath = '//*[@id=\"section_spec\"]/div[1]'\n",
    "some_tag = driver.find_element_by_xpath(end_xpath)\n",
    "action = ActionChains(driver)\n",
    "action.move_to_element(some_tag).perform()"
   ]
  },
  {
   "cell_type": "code",
   "execution_count": 7,
   "id": "3294c3cf",
   "metadata": {},
   "outputs": [],
   "source": [
    "button_xpath = '//*[@id=\"section_spec\"]/div[1]/div/a[2]'\n",
    "driver.find_element_by_xpath(button_xpath).send_keys(Keys.ENTER)"
   ]
  },
  {
   "cell_type": "code",
   "execution_count": 15,
   "id": "b43a56a9",
   "metadata": {},
   "outputs": [],
   "source": [
    "func_xpath = '//*[@id=\"section_spec\"]/div[2]/table/tbody'\n",
    "func_list = driver.find_element_by_xpath(func_xpath).find_elements_by_tag_name('td')"
   ]
  },
  {
   "cell_type": "code",
   "execution_count": 16,
   "id": "0a724212",
   "metadata": {},
   "outputs": [
    {
     "name": "stdout",
     "output_type": "stream",
     "text": [
      "[<selenium.webdriver.remote.webelement.WebElement (session=\"2d2660198d8794a9e1465a21287c9f51\", element=\"69bc8482-1479-453e-8461-3567a74612fe\")>, <selenium.webdriver.remote.webelement.WebElement (session=\"2d2660198d8794a9e1465a21287c9f51\", element=\"32877026-e0d3-4483-aee1-eed218a7afd6\")>, <selenium.webdriver.remote.webelement.WebElement (session=\"2d2660198d8794a9e1465a21287c9f51\", element=\"d42a1abe-9673-49a8-ab91-1c42024799b7\")>, <selenium.webdriver.remote.webelement.WebElement (session=\"2d2660198d8794a9e1465a21287c9f51\", element=\"b249843a-608e-4d26-a7f2-127557d36823\")>]\n"
     ]
    }
   ],
   "source": [
    "print(func_list)"
   ]
  },
  {
   "cell_type": "code",
   "execution_count": 17,
   "id": "99bd934b",
   "metadata": {},
   "outputs": [
    {
     "name": "stdout",
     "output_type": "stream",
     "text": [
      "일회용\n",
      "KF94/N95용어사전\n",
      "접이식\n",
      "미세먼지필터, 김서림방지\n"
     ]
    }
   ],
   "source": [
    "for func in func_list:\n",
    "    print(func.text)"
   ]
  },
  {
   "cell_type": "code",
   "execution_count": 18,
   "id": "5821987d",
   "metadata": {},
   "outputs": [],
   "source": [
    "usage = func_list[0].text"
   ]
  },
  {
   "cell_type": "code",
   "execution_count": 19,
   "id": "80920841",
   "metadata": {},
   "outputs": [
    {
     "name": "stdout",
     "output_type": "stream",
     "text": [
      "일회용\n"
     ]
    }
   ],
   "source": [
    "print(usage)"
   ]
  },
  {
   "cell_type": "code",
   "execution_count": 27,
   "id": "57f2f08d",
   "metadata": {},
   "outputs": [
    {
     "name": "stdout",
     "output_type": "stream",
     "text": [
      "KF94/N95용어사전\n",
      "KF94/N95\n"
     ]
    }
   ],
   "source": [
    "block_text = func_list[1].text\n",
    "print(block_text)\n",
    "block = block_text.replace(\"용어사전\", \"\")\n",
    "print(block)"
   ]
  },
  {
   "cell_type": "code",
   "execution_count": 30,
   "id": "19c0a2af",
   "metadata": {},
   "outputs": [
    {
     "name": "stdout",
     "output_type": "stream",
     "text": [
      "접이식\n"
     ]
    }
   ],
   "source": [
    "shape = func_list[2].text\n",
    "print(shape)"
   ]
  },
  {
   "cell_type": "code",
   "execution_count": 31,
   "id": "d04b7eaa",
   "metadata": {},
   "outputs": [
    {
     "name": "stdout",
     "output_type": "stream",
     "text": [
      "미세먼지필터, 김서림방지\n"
     ]
    }
   ],
   "source": [
    "func_detail = func_list[3].text\n",
    "print(func_detail)"
   ]
  },
  {
   "cell_type": "code",
   "execution_count": 32,
   "id": "a1b96711",
   "metadata": {},
   "outputs": [],
   "source": [
    "driver.close()\n",
    "driver.quit()"
   ]
  },
  {
   "cell_type": "code",
   "execution_count": 33,
   "id": "0f89b642",
   "metadata": {},
   "outputs": [],
   "source": [
    "# 형태 영향 덜 받게 span에 있는 항목 싹 긁어보기\n",
    "# div 영역 스크롤 - span 다 긁어서 내용 확인 - 필요한 내용 추출\n",
    "# span 요소가 없을 경우 exception 발생 가능성 있음 (Breakpoint 설정)\n",
    "# "
   ]
  },
  {
   "cell_type": "code",
   "execution_count": 110,
   "id": "bd02a4db",
   "metadata": {},
   "outputs": [],
   "source": [
    "driver2 = webdriver.Chrome(r'/Users/krc/Downloads/chromedriver')\n",
    "url = 'https://search.shopping.naver.com/catalog/26761660209?query=%EB%A7%88%EC%8A%A4%ED%81%AC&NaPm=ct%3Dkw1ekdfk%7Cci%3D27e58fa2cffbd30cfc5477eea6d5dd2710c0b8b8%7Ctr%3Dslsl%7Csn%3D95694%7Chk%3D2778dcf2f1402200a89f1b003e34b708628b9e32'\n",
    "url2 = 'https://search.shopping.naver.com/catalog/25494065522?query=%EB%A7%88%EC%8A%A4%ED%81%AC&NaPm=ct%3Dkw1db3sw%7Cci%3Dc997c13545e3dcb02babb4e7062f579bb99b422b%7Ctr%3Dslsl%7Csn%3D95694%7Chk%3D2d7cfc6353e30b6b34898d73be73554cdc4ad768'\n",
    "driver2.get(url2)\n",
    "\n",
    "div_xpath = '//*[@id=\"__next\"]/div/div[2]/div[2]/div[1]/div[3]'\n",
    "some_tag = driver2.find_element_by_xpath(div_xpath)\n",
    "action = ActionChains(driver2)\n",
    "action.move_to_element(some_tag).perform()"
   ]
  },
  {
   "cell_type": "code",
   "execution_count": 112,
   "id": "2d200d76",
   "metadata": {},
   "outputs": [
    {
     "name": "stdout",
     "output_type": "stream",
     "text": [
      "[<selenium.webdriver.remote.webelement.WebElement (session=\"4c56d5700032f6622d62f6e2b3649e5a\", element=\"fb7b89e5-0cb0-4ca9-a7f9-c47b06484b65\")>, <selenium.webdriver.remote.webelement.WebElement (session=\"4c56d5700032f6622d62f6e2b3649e5a\", element=\"31209c34-7702-48e9-a790-3b5f194c4137\")>, <selenium.webdriver.remote.webelement.WebElement (session=\"4c56d5700032f6622d62f6e2b3649e5a\", element=\"6f81bac8-786a-46d2-b1d3-c64f7c2acf00\")>, <selenium.webdriver.remote.webelement.WebElement (session=\"4c56d5700032f6622d62f6e2b3649e5a\", element=\"bc6bfb0b-6d38-4010-a9cf-bd935672a93c\")>]\n"
     ]
    }
   ],
   "source": [
    "func_span_list = some_tag.find_elements_by_class_name('top_cell__3DnEV')\n",
    "main_func = []\n",
    "print(func_span_list)"
   ]
  },
  {
   "cell_type": "code",
   "execution_count": 113,
   "id": "5961e029",
   "metadata": {},
   "outputs": [
    {
     "name": "stdout",
     "output_type": "stream",
     "text": [
      "사용횟수 : 일회용\n",
      "일회용\n",
      "차단지수 : KF94/N95\n",
      "KF94/N95\n",
      "주요형태 : 접이식\n",
      "접이식\n",
      "기능 : 미세먼지필터, 김서림방지\n",
      "미세먼지필터, 김서림방지\n"
     ]
    }
   ],
   "source": [
    "for span in func_span_list :\n",
    "    print(span.text)\n",
    "    some_func = span.text.split(':')[1].strip(' ')\n",
    "    print(span.text.split(':')[1].strip(' '))\n",
    "    main_func.append(some_func)"
   ]
  },
  {
   "cell_type": "code",
   "execution_count": 114,
   "id": "4997c625",
   "metadata": {},
   "outputs": [
    {
     "name": "stdout",
     "output_type": "stream",
     "text": [
      "['일회용', 'KF94/N95', '접이식', '미세먼지필터, 김서림방지']\n"
     ]
    }
   ],
   "source": [
    "driver2.close()\n",
    "driver2.quit()\n",
    "print(main_func)"
   ]
  },
  {
   "cell_type": "code",
   "execution_count": 86,
   "id": "623b9d5e",
   "metadata": {},
   "outputs": [
    {
     "name": "stdout",
     "output_type": "stream",
     "text": [
      "일회용,KF94/N95,접이식,미세먼지필터 김서림방지\n"
     ]
    }
   ],
   "source": [
    "end_type = \",\".join(main_func)\n",
    "print(end_type)\n",
    "# 데이터 출력 형식 조정하기, DataFrame에 들어가야하니까"
   ]
  },
  {
   "cell_type": "code",
   "execution_count": 87,
   "id": "966e0841",
   "metadata": {},
   "outputs": [],
   "source": [
    "# 광고인 경우 기능 출력해보기\n",
    "# exception 발생 가능성 존재 (스마트스토어 아닌 다른 사이트로 연결되는 경우)\n",
    "# div내 구성 [사용 횟수 - 차단 지수 - 주요 형태 - 기능]"
   ]
  },
  {
   "cell_type": "code",
   "execution_count": 116,
   "id": "91b8e7d4",
   "metadata": {},
   "outputs": [],
   "source": [
    "driver3 = webdriver.Chrome(r'/Users/krc/Downloads/chromedriver')\n",
    "url = 'https://smartstore.naver.com/bscorporate/products/5046368194?n_keyword=&n_rank=3&n_query=%EB%A7%88%EC%8A%A4%ED%81%AC&n_campaign_type=2&n_media=11068&n_campaign=cmp-a001-02-000000003819382&n_ad_group=grp-a001-02-000000019700030&n_ad=nad-a001-02-000000122334866&n_match=3&n_network=search&n_mall_id=ncp_1o06z6_01&n_mall_pid=5046368194&n_ad_group_type=2&NaPm=ct%3Dkw1fgkds%7Cci%3D0zq0002Y2Tbv6CXUCvn9%7Ctr%3Dpla%7Chk%3De130ffd6e0ba8f60730beb35650f689154f2676a'\n",
    "url2 = 'https://smartstore.naver.com/jeongpro/products/5327024431?n_media=11068&n_query=%EB%A7%88%EC%8A%A4%ED%81%AC&n_rank=9&n_ad_group=grp-a001-02-000000024092449&n_ad=nad-a001-02-000000159068371&n_campaign_type=2&n_mall_id=ncp_1nmz6q_01&n_mall_pid=5327024431&n_ad_group_type=2&NaPm=ct%3Dkw1gs314%7Cci%3D0yS0001B59bvxr40VLnC%7Ctr%3Dpla%7Chk%3Dd24fe6aad4544d4788e34ed6c66be9e0d842d4e6' \n",
    "driver3.get(url2)\n",
    "driver3.implicitly_wait(20)\n",
    "\n",
    "div_xpath = '//*[@id=\"INTRODUCE\"]/div/div[3]/div/div[2]/div'\n",
    "some_tag = driver3.find_element_by_xpath(div_xpath)\n",
    "action = ActionChains(driver3)\n",
    "action.move_to_element(some_tag).perform()"
   ]
  },
  {
   "cell_type": "code",
   "execution_count": 117,
   "id": "a03b717e",
   "metadata": {},
   "outputs": [
    {
     "name": "stdout",
     "output_type": "stream",
     "text": [
      "[<selenium.webdriver.remote.webelement.WebElement (session=\"375dd1faf74983f937970f75f28f8de1\", element=\"9994c6d9-f070-4452-a9d3-f45eee0742ec\")>, <selenium.webdriver.remote.webelement.WebElement (session=\"375dd1faf74983f937970f75f28f8de1\", element=\"69632124-31a3-45af-ab29-134166861e9f\")>, <selenium.webdriver.remote.webelement.WebElement (session=\"375dd1faf74983f937970f75f28f8de1\", element=\"5c76b911-fcd7-425c-b1db-b7498ba347b0\")>, <selenium.webdriver.remote.webelement.WebElement (session=\"375dd1faf74983f937970f75f28f8de1\", element=\"61bd1b33-a9be-4d0b-ba8c-18f679b8adde\")>, <selenium.webdriver.remote.webelement.WebElement (session=\"375dd1faf74983f937970f75f28f8de1\", element=\"e7c2910c-4198-480e-bc5c-d933d3a83c08\")>]\n"
     ]
    }
   ],
   "source": [
    "func_list = some_tag.find_elements_by_tag_name('td')\n",
    "print(func_list)\n",
    "ad_func = []"
   ]
  },
  {
   "cell_type": "code",
   "execution_count": 118,
   "id": "cc685cec",
   "metadata": {},
   "outputs": [
    {
     "name": "stdout",
     "output_type": "stream",
     "text": [
      "일회용\n",
      "KF94/N95\n",
      "접이식\n",
      "미세먼지필터, 김서림방지, 저자극, 방한, 자외선차단, 방수\n",
      "10개이하\n"
     ]
    }
   ],
   "source": [
    "for fun in func_list:\n",
    "    print(fun.text)\n",
    "    ad_func.append(fun.text)"
   ]
  },
  {
   "cell_type": "code",
   "execution_count": 119,
   "id": "eb9623a1",
   "metadata": {},
   "outputs": [
    {
     "name": "stdout",
     "output_type": "stream",
     "text": [
      "['일회용', 'KF94/N95', '접이식', '미세먼지필터, 김서림방지, 저자극, 방한, 자외선차단, 방수', '10개이하']\n"
     ]
    }
   ],
   "source": [
    "print(ad_func)"
   ]
  },
  {
   "cell_type": "code",
   "execution_count": 120,
   "id": "15a16d7e",
   "metadata": {},
   "outputs": [],
   "source": [
    "driver3.close()\n",
    "driver3.quit()"
   ]
  },
  {
   "cell_type": "code",
   "execution_count": null,
   "id": "aa18b40f",
   "metadata": {},
   "outputs": [],
   "source": []
  },
  {
   "cell_type": "code",
   "execution_count": null,
   "id": "e92ce3e8",
   "metadata": {},
   "outputs": [],
   "source": []
  }
 ],
 "metadata": {
  "kernelspec": {
   "display_name": "craw",
   "language": "python",
   "name": "craw"
  },
  "language_info": {
   "codemirror_mode": {
    "name": "ipython",
    "version": 3
   },
   "file_extension": ".py",
   "mimetype": "text/x-python",
   "name": "python",
   "nbconvert_exporter": "python",
   "pygments_lexer": "ipython3",
   "version": "3.7.11"
  }
 },
 "nbformat": 4,
 "nbformat_minor": 5
}
